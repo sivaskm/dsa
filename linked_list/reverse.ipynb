{
 "cells": [
  {
   "cell_type": "code",
   "execution_count": 16,
   "id": "70e1fd0e",
   "metadata": {},
   "outputs": [],
   "source": [
    "class Node:\n",
    "    def __init__(self, data, next_node=None):\n",
    "        self.data = data\n",
    "        self.next: Node = next_node"
   ]
  },
  {
   "cell_type": "code",
   "execution_count": 17,
   "id": "2ea7704c",
   "metadata": {},
   "outputs": [],
   "source": [
    "def print_ll(head):\n",
    "    temp = head\n",
    "    while temp is not None:\n",
    "        print(temp.data, end=\" \")\n",
    "        temp = temp.next\n",
    "    print()"
   ]
  },
  {
   "cell_type": "code",
   "execution_count": 18,
   "id": "ac291bda",
   "metadata": {},
   "outputs": [],
   "source": [
    "def test_solution(soln_fn):\n",
    "    head = Node(1)\n",
    "    head.next = Node(2)\n",
    "    head.next.next = Node(3)\n",
    "    head.next.next.next = Node(4)\n",
    "\n",
    "    print(\"Original Liked List: \", end=\" \")\n",
    "    print_ll(head=head)\n",
    "\n",
    "    print(\"Reversed Linked List: \", end=\" \")\n",
    "    print_ll(soln_fn(head=head))"
   ]
  },
  {
   "cell_type": "markdown",
   "id": "f18694d3",
   "metadata": {},
   "source": [
    "## Brute Force\n",
    "\n",
    "1. Put all node values in stack.\n",
    "2. Pop one by one in reverse direction and assign those values to nodes.\n",
    "We just change values of the linked list and not their direction.\n",
    "\n",
    "- TC: O(2N)\n",
    "- SC: O(N)"
   ]
  },
  {
   "cell_type": "code",
   "execution_count": 19,
   "id": "2816429d",
   "metadata": {},
   "outputs": [],
   "source": [
    "def reverse_ll_brute(head: Node):\n",
    "    temp = head\n",
    "    stack = []\n",
    "    \n",
    "    while temp is not None:\n",
    "        stack.append(temp.data)\n",
    "        temp = temp.next\n",
    "\n",
    "    temp = head\n",
    "    while temp is not None:\n",
    "        temp.data = stack.pop()\n",
    "        temp = temp.next\n",
    "\n",
    "    return head"
   ]
  },
  {
   "cell_type": "code",
   "execution_count": 20,
   "id": "56a02aa7",
   "metadata": {},
   "outputs": [
    {
     "name": "stdout",
     "output_type": "stream",
     "text": [
      "Original Liked List:  1 2 3 4 \n",
      "Reversed Linked List:  4 3 2 1 \n"
     ]
    }
   ],
   "source": [
    "test_solution(reverse_ll_brute)"
   ]
  },
  {
   "cell_type": "markdown",
   "id": "3e2a6477",
   "metadata": {},
   "source": [
    "## Optimal - 1\n",
    "\n",
    "- TC: O(n)\n",
    "- SC: O(1)"
   ]
  },
  {
   "cell_type": "code",
   "execution_count": 26,
   "id": "a4578cce",
   "metadata": {},
   "outputs": [],
   "source": [
    "def reverse_ll_optimal_1(head: Node):\n",
    "\n",
    "    # Initialize 'mover' at the head of the LL. \n",
    "    mover = head\n",
    "\n",
    "    # Initialize 'prev' to None, representing the previous node.\n",
    "    prev = None\n",
    "\n",
    "    while mover is not None:\n",
    "        # Store the next node in 'next' to preseve the reference (for advancing the traversal)\n",
    "        next = mover.next\n",
    "        \n",
    "        # Reverse the direction of current node's next pointer to point to 'prev'\n",
    "        mover.next = prev\n",
    "        \n",
    "        # Move prev to the current node for next iteration\n",
    "        prev = mover\n",
    "        \n",
    "        # Move mover to next node, advancing traversal\n",
    "        mover = next\n",
    "    \n",
    "    return prev"
   ]
  },
  {
   "cell_type": "code",
   "execution_count": 27,
   "id": "26dbb46f",
   "metadata": {},
   "outputs": [
    {
     "name": "stdout",
     "output_type": "stream",
     "text": [
      "Original Liked List:  1 2 3 4 \n",
      "Reversed Linked List:  4 3 2 1 \n"
     ]
    }
   ],
   "source": [
    "test_solution(reverse_ll_optimal_1)"
   ]
  },
  {
   "cell_type": "markdown",
   "id": "21859870",
   "metadata": {},
   "source": [
    "## Optimal 2 - Recursive"
   ]
  },
  {
   "cell_type": "code",
   "execution_count": null,
   "id": "195e1058",
   "metadata": {},
   "outputs": [],
   "source": [
    "def reverse_ll_recursive(head: Node):\n",
    "    # Base Case: If the LL is empty or has only one node, return the head as it is already reversed.\n",
    "    if head is None or head.next is None:\n",
    "        return head\n",
    "    \n",
    "    # Recursive Step: Reverse the LL starting from the second node\n",
    "    new_head = reverse_ll_recursive(head.next)\n",
    "\n",
    "    # Save a reference to the node following the current 'head' node\n",
    "    next = head.next\n",
    "\n",
    "    # Make the 'next' node point to the current 'head' node in the reversed order.\n",
    "    next.next = head\n",
    "\n",
    "    # Break the link from the current 'head' node to the 'next' node to  avoid cycle\n",
    "    head.next = None\n",
    "\n",
    "    # Return the 'new_head' which is the new head of the reversed LL\n",
    "    return new_head"
   ]
  },
  {
   "cell_type": "code",
   "execution_count": 29,
   "id": "c42aba10",
   "metadata": {},
   "outputs": [
    {
     "name": "stdout",
     "output_type": "stream",
     "text": [
      "Original Liked List:  1 2 3 4 \n",
      "Reversed Linked List:  4 3 2 1 \n"
     ]
    }
   ],
   "source": [
    "test_solution(reverse_ll_recursive)"
   ]
  },
  {
   "cell_type": "code",
   "execution_count": null,
   "id": "9197342c",
   "metadata": {},
   "outputs": [],
   "source": []
  }
 ],
 "metadata": {
  "kernelspec": {
   "display_name": "dsa-env",
   "language": "python",
   "name": "python3"
  },
  "language_info": {
   "codemirror_mode": {
    "name": "ipython",
    "version": 3
   },
   "file_extension": ".py",
   "mimetype": "text/x-python",
   "name": "python",
   "nbconvert_exporter": "python",
   "pygments_lexer": "ipython3",
   "version": "3.13.1"
  }
 },
 "nbformat": 4,
 "nbformat_minor": 5
}
