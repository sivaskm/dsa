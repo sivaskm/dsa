{
 "cells": [
  {
   "cell_type": "markdown",
   "id": "d0090832",
   "metadata": {},
   "source": [
    "# Recursion\n",
    "## 1. Print name n times"
   ]
  },
  {
   "cell_type": "code",
   "execution_count": 8,
   "id": "e90ed13d",
   "metadata": {},
   "outputs": [],
   "source": [
    "def print_name(name, n, i):\n",
    "    if i > n:\n",
    "        return\n",
    "    print(name)\n",
    "    print_name(name, n, i+1)"
   ]
  },
  {
   "cell_type": "code",
   "execution_count": 9,
   "id": "7d5b8926",
   "metadata": {},
   "outputs": [
    {
     "name": "stdout",
     "output_type": "stream",
     "text": [
      "siva\n",
      "siva\n",
      "siva\n",
      "siva\n",
      "siva\n"
     ]
    }
   ],
   "source": [
    "print_name(\"siva\", 5, 1)"
   ]
  },
  {
   "cell_type": "markdown",
   "id": "58ccbac1",
   "metadata": {},
   "source": [
    "## 2. Print linearly from 1 to n"
   ]
  },
  {
   "cell_type": "code",
   "execution_count": 25,
   "id": "256b83d8",
   "metadata": {},
   "outputs": [],
   "source": [
    "def print_1_to_n(n, i):\n",
    "    if i > n:\n",
    "        return \n",
    "    print(i)\n",
    "    print_1_to_n(n, i+1)"
   ]
  },
  {
   "cell_type": "code",
   "execution_count": 26,
   "id": "19248bc8",
   "metadata": {},
   "outputs": [
    {
     "name": "stdout",
     "output_type": "stream",
     "text": [
      "1\n",
      "2\n",
      "3\n",
      "4\n",
      "5\n"
     ]
    }
   ],
   "source": [
    "print_1_to_n(5, 1)"
   ]
  },
  {
   "cell_type": "markdown",
   "id": "c1fff1eb",
   "metadata": {},
   "source": [
    "## 3. Print linearly from n to 1"
   ]
  },
  {
   "cell_type": "code",
   "execution_count": 23,
   "id": "ad97e768",
   "metadata": {},
   "outputs": [],
   "source": [
    "def print_n_to_1(n, i):\n",
    "    if i < 1:\n",
    "        return \n",
    "    print(i)\n",
    "    print_n_to_1(n, i-1)"
   ]
  },
  {
   "cell_type": "code",
   "execution_count": 24,
   "id": "2f4b5899",
   "metadata": {},
   "outputs": [
    {
     "name": "stdout",
     "output_type": "stream",
     "text": [
      "5\n",
      "4\n",
      "3\n",
      "2\n",
      "1\n"
     ]
    }
   ],
   "source": [
    "print_n_to_1(5, 5)"
   ]
  },
  {
   "cell_type": "markdown",
   "id": "48930905",
   "metadata": {},
   "source": [
    "## 4. Backtracking - Print linearly from 1 to n"
   ]
  },
  {
   "cell_type": "code",
   "execution_count": 31,
   "id": "a1fd34c9",
   "metadata": {},
   "outputs": [],
   "source": [
    "def print_back(n):\n",
    "    if n < 1:\n",
    "        return \n",
    "    print_back(n-1)\n",
    "    print(n)"
   ]
  },
  {
   "cell_type": "code",
   "execution_count": 32,
   "id": "350d170b",
   "metadata": {},
   "outputs": [
    {
     "name": "stdout",
     "output_type": "stream",
     "text": [
      "1\n",
      "2\n",
      "3\n"
     ]
    }
   ],
   "source": [
    "print_back(3)"
   ]
  },
  {
   "cell_type": "markdown",
   "id": "2351600e",
   "metadata": {},
   "source": [
    "## 5. Backtracking - Print linearly from n to 1"
   ]
  },
  {
   "cell_type": "code",
   "execution_count": 36,
   "id": "b9e90f31",
   "metadata": {},
   "outputs": [],
   "source": [
    "def print_back_nto1(i, n):\n",
    "    if i > n:\n",
    "        return\n",
    "    print_back_nto1(i+1, n)\n",
    "    print(i)"
   ]
  },
  {
   "cell_type": "code",
   "execution_count": 38,
   "id": "11ba8f07",
   "metadata": {},
   "outputs": [
    {
     "name": "stdout",
     "output_type": "stream",
     "text": [
      "3\n",
      "2\n",
      "1\n"
     ]
    }
   ],
   "source": [
    "print_back_nto1(1, 3)"
   ]
  },
  {
   "cell_type": "markdown",
   "id": "322b8723",
   "metadata": {},
   "source": [
    "## 6. Sum of First n Numbers\n",
    "### Parameterized way"
   ]
  },
  {
   "cell_type": "code",
   "execution_count": 1,
   "id": "3c247645",
   "metadata": {},
   "outputs": [],
   "source": [
    "def sum_param(i, sum):\n",
    "    if i == 0:\n",
    "        return sum\n",
    "    return sum_param(i-1, sum+i)"
   ]
  },
  {
   "cell_type": "code",
   "execution_count": 6,
   "id": "e3bb2733",
   "metadata": {},
   "outputs": [
    {
     "name": "stdout",
     "output_type": "stream",
     "text": [
      "6\n"
     ]
    }
   ],
   "source": [
    "print(sum_param(3, 0))"
   ]
  },
  {
   "cell_type": "markdown",
   "id": "dbf37ea4",
   "metadata": {},
   "source": [
    "### Functional way"
   ]
  },
  {
   "cell_type": "code",
   "execution_count": 18,
   "id": "f27ff14a",
   "metadata": {},
   "outputs": [],
   "source": [
    "def sum_func(i):\n",
    "    if i == 0:\n",
    "        return 0\n",
    "    return i + sum_func(i-1)"
   ]
  },
  {
   "cell_type": "code",
   "execution_count": 19,
   "id": "f41b7737",
   "metadata": {},
   "outputs": [
    {
     "name": "stdout",
     "output_type": "stream",
     "text": [
      "6\n"
     ]
    }
   ],
   "source": [
    "print(sum_func(3))"
   ]
  },
  {
   "cell_type": "markdown",
   "id": "de426002",
   "metadata": {},
   "source": [
    "## 7. Factorial of first n numbers"
   ]
  },
  {
   "cell_type": "code",
   "execution_count": 22,
   "id": "73af93cb",
   "metadata": {},
   "outputs": [],
   "source": [
    "def factorial(n):\n",
    "    if n == 1:\n",
    "        return 1 \n",
    "    return n * factorial(n-1)"
   ]
  },
  {
   "cell_type": "code",
   "execution_count": 23,
   "id": "42655757",
   "metadata": {},
   "outputs": [
    {
     "data": {
      "text/plain": [
       "6"
      ]
     },
     "execution_count": 23,
     "metadata": {},
     "output_type": "execute_result"
    }
   ],
   "source": [
    "factorial(3)"
   ]
  },
  {
   "cell_type": "markdown",
   "id": "25e17adb",
   "metadata": {},
   "source": [
    "## 8. Reverse an Array"
   ]
  },
  {
   "cell_type": "code",
   "execution_count": 24,
   "id": "e6c69186",
   "metadata": {},
   "outputs": [],
   "source": [
    "def reverse_array1(array: list, start_index: int, end_index: int):\n",
    "    if start_index == end_index:\n",
    "        return \n",
    "    array[start_index], array[end_index] = array[end_index], array[start_index]\n",
    "    reverse_array1(array, start_index+1, end_index-1)"
   ]
  },
  {
   "cell_type": "code",
   "execution_count": 25,
   "id": "104e0a9e",
   "metadata": {},
   "outputs": [
    {
     "name": "stdout",
     "output_type": "stream",
     "text": [
      "[5, 4, 3, 2, 1]\n"
     ]
    }
   ],
   "source": [
    "array = [1, 2, 3, 4, 5]\n",
    "start_index = 0\n",
    "end_index = len(array) - 1\n",
    "reverse_array1(array, start_index, end_index)\n",
    "print(array)"
   ]
  },
  {
   "cell_type": "code",
   "execution_count": 34,
   "id": "70e08da7",
   "metadata": {},
   "outputs": [],
   "source": [
    "def reverse_array(array: list, start_index: int):\n",
    "    if start_index == len(array) // 2:\n",
    "        return \n",
    "    array[start_index], array[len(array) - 1 - start_index] = array[len(array) - 1 - start_index], array[start_index]\n",
    "    reverse_array(array, start_index+1)"
   ]
  },
  {
   "cell_type": "code",
   "execution_count": 35,
   "id": "20963723",
   "metadata": {},
   "outputs": [
    {
     "name": "stdout",
     "output_type": "stream",
     "text": [
      "[5, 4, 3, 2, 1]\n"
     ]
    }
   ],
   "source": [
    "array = [1, 2, 3, 4, 5]\n",
    "start_index = 0\n",
    "reverse_array(array, start_index)\n",
    "print(array)"
   ]
  },
  {
   "cell_type": "markdown",
   "id": "d744339d",
   "metadata": {},
   "source": [
    "## 9. Check if String is Palindrome"
   ]
  },
  {
   "cell_type": "code",
   "execution_count": 36,
   "id": "d867a5e2",
   "metadata": {},
   "outputs": [],
   "source": [
    "def check_palindrome(string, i):\n",
    "    if len(string) // 2 == i:\n",
    "        return True\n",
    "    if string[i] != string[len(string)-1-i]:\n",
    "        return False\n",
    "    return check_palindrome(string, i+1)"
   ]
  },
  {
   "cell_type": "code",
   "execution_count": 39,
   "id": "6843be60",
   "metadata": {},
   "outputs": [
    {
     "data": {
      "text/plain": [
       "(False, True)"
      ]
     },
     "execution_count": 39,
     "metadata": {},
     "output_type": "execute_result"
    }
   ],
   "source": [
    "check_palindrome(\"momy\", 0), check_palindrome(\"mom\", 0)"
   ]
  },
  {
   "cell_type": "code",
   "execution_count": null,
   "id": "630d64bd",
   "metadata": {},
   "outputs": [],
   "source": []
  }
 ],
 "metadata": {
  "kernelspec": {
   "display_name": "env",
   "language": "python",
   "name": "python3"
  },
  "language_info": {
   "codemirror_mode": {
    "name": "ipython",
    "version": 3
   },
   "file_extension": ".py",
   "mimetype": "text/x-python",
   "name": "python",
   "nbconvert_exporter": "python",
   "pygments_lexer": "ipython3",
   "version": "3.13.1"
  }
 },
 "nbformat": 4,
 "nbformat_minor": 5
}
