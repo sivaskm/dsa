{
 "cells": [
  {
   "cell_type": "markdown",
   "id": "d0090832",
   "metadata": {},
   "source": [
    "# Recursion\n",
    "## 1. Print name n times"
   ]
  },
  {
   "cell_type": "code",
   "execution_count": 8,
   "id": "e90ed13d",
   "metadata": {},
   "outputs": [],
   "source": [
    "def print_name(name, n, i):\n",
    "    if i > n:\n",
    "        return\n",
    "    print(name)\n",
    "    print_name(name, n, i+1)"
   ]
  },
  {
   "cell_type": "code",
   "execution_count": 9,
   "id": "7d5b8926",
   "metadata": {},
   "outputs": [
    {
     "name": "stdout",
     "output_type": "stream",
     "text": [
      "siva\n",
      "siva\n",
      "siva\n",
      "siva\n",
      "siva\n"
     ]
    }
   ],
   "source": [
    "print_name(\"siva\", 5, 1)"
   ]
  },
  {
   "cell_type": "markdown",
   "id": "58ccbac1",
   "metadata": {},
   "source": [
    "## 2. Print linearly from 1 to n"
   ]
  },
  {
   "cell_type": "code",
   "execution_count": 25,
   "id": "256b83d8",
   "metadata": {},
   "outputs": [],
   "source": [
    "def print_1_to_n(n, i):\n",
    "    if i > n:\n",
    "        return \n",
    "    print(i)\n",
    "    print_1_to_n(n, i+1)"
   ]
  },
  {
   "cell_type": "code",
   "execution_count": 26,
   "id": "19248bc8",
   "metadata": {},
   "outputs": [
    {
     "name": "stdout",
     "output_type": "stream",
     "text": [
      "1\n",
      "2\n",
      "3\n",
      "4\n",
      "5\n"
     ]
    }
   ],
   "source": [
    "print_1_to_n(5, 1)"
   ]
  },
  {
   "cell_type": "markdown",
   "id": "c1fff1eb",
   "metadata": {},
   "source": [
    "## 3. Print linearly from n to 1"
   ]
  },
  {
   "cell_type": "code",
   "execution_count": 23,
   "id": "ad97e768",
   "metadata": {},
   "outputs": [],
   "source": [
    "def print_n_to_1(n, i):\n",
    "    if i < 1:\n",
    "        return \n",
    "    print(i)\n",
    "    print_n_to_1(n, i-1)"
   ]
  },
  {
   "cell_type": "code",
   "execution_count": 24,
   "id": "2f4b5899",
   "metadata": {},
   "outputs": [
    {
     "name": "stdout",
     "output_type": "stream",
     "text": [
      "5\n",
      "4\n",
      "3\n",
      "2\n",
      "1\n"
     ]
    }
   ],
   "source": [
    "print_n_to_1(5, 5)"
   ]
  },
  {
   "cell_type": "markdown",
   "id": "48930905",
   "metadata": {},
   "source": [
    "## 4. Backtracking - Print linearly from 1 to n"
   ]
  },
  {
   "cell_type": "code",
   "execution_count": 31,
   "id": "a1fd34c9",
   "metadata": {},
   "outputs": [],
   "source": [
    "def print_back(n):\n",
    "    if n < 1:\n",
    "        return \n",
    "    print_back(n-1)\n",
    "    print(n)"
   ]
  },
  {
   "cell_type": "code",
   "execution_count": 32,
   "id": "350d170b",
   "metadata": {},
   "outputs": [
    {
     "name": "stdout",
     "output_type": "stream",
     "text": [
      "1\n",
      "2\n",
      "3\n"
     ]
    }
   ],
   "source": [
    "print_back(3)"
   ]
  },
  {
   "cell_type": "markdown",
   "id": "2351600e",
   "metadata": {},
   "source": [
    "## 5. Backtracking - Print linearly from n to 1"
   ]
  },
  {
   "cell_type": "code",
   "execution_count": 36,
   "id": "b9e90f31",
   "metadata": {},
   "outputs": [],
   "source": [
    "def print_back_nto1(i, n):\n",
    "    if i > n:\n",
    "        return\n",
    "    print_back_nto1(i+1, n)\n",
    "    print(i)"
   ]
  },
  {
   "cell_type": "code",
   "execution_count": 38,
   "id": "11ba8f07",
   "metadata": {},
   "outputs": [
    {
     "name": "stdout",
     "output_type": "stream",
     "text": [
      "3\n",
      "2\n",
      "1\n"
     ]
    }
   ],
   "source": [
    "print_back_nto1(1, 3)"
   ]
  },
  {
   "cell_type": "code",
   "execution_count": null,
   "id": "3c247645",
   "metadata": {},
   "outputs": [],
   "source": []
  }
 ],
 "metadata": {
  "kernelspec": {
   "display_name": "env",
   "language": "python",
   "name": "python3"
  },
  "language_info": {
   "codemirror_mode": {
    "name": "ipython",
    "version": 3
   },
   "file_extension": ".py",
   "mimetype": "text/x-python",
   "name": "python",
   "nbconvert_exporter": "python",
   "pygments_lexer": "ipython3",
   "version": "3.13.1"
  }
 },
 "nbformat": 4,
 "nbformat_minor": 5
}
