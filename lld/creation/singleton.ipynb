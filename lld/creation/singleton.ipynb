{
 "cells": [
  {
   "cell_type": "code",
   "execution_count": 6,
   "id": "583d6a76",
   "metadata": {},
   "outputs": [
    {
     "name": "stdout",
     "output_type": "stream",
     "text": [
      "Algorithms\n",
      "Algorithms\n",
      "Geeks\n",
      "Geeks\n",
      "Geeks\n"
     ]
    }
   ],
   "source": [
    "# Singleton Borg pattern\n",
    "class Borg:\n",
    "\n",
    "    # state shared by each instance - Executed only once when the class is loaded into memory\n",
    "    __shared_state = dict()\n",
    "\n",
    "    # constructor method\n",
    "    def __init__(self):\n",
    "\n",
    "        self.__dict__ = self.__shared_state\n",
    "        self.state = 'GeeksforGeeks'\n",
    "\n",
    "    def __str__(self):\n",
    "\n",
    "        return self.state\n",
    "\n",
    "\n",
    "person1 = Borg()    # object of class Borg\n",
    "person2 = Borg()    # object of class Borg\n",
    "person3 = Borg()    # object of class Borg\n",
    "\n",
    "person1.state = 'DataStructures'  # person1 changed the state\n",
    "person2.state = 'Algorithms'     # person2 changed the state\n",
    "\n",
    "print(person1)    # output --> Algorithms\n",
    "print(person2)    # output --> Algorithms\n",
    "\n",
    "person3.state = 'Geeks'  # person3 changed the shared state\n",
    "\n",
    "print(person1)    # output --> Geeks\n",
    "print(person2)    # output --> Geeks\n",
    "print(person3)    # output --> Geeks"
   ]
  },
  {
   "cell_type": "code",
   "execution_count": 8,
   "id": "d7067760",
   "metadata": {},
   "outputs": [
    {
     "name": "stdout",
     "output_type": "stream",
     "text": [
      "Singleton instance crerated\n",
      "True\n"
     ]
    }
   ],
   "source": [
    "class Singleton:\n",
    "    _instance = None  # Class-level variable to store the single instance\n",
    "\n",
    "    def __new__(cls):\n",
    "        if cls._instance is None:\n",
    "            # If no instance exists, create one and store it\n",
    "            cls._instance = super().__new__(cls)\n",
    "            print(\"Singleton instance crerated\")\n",
    "        return cls._instance\n",
    "\n",
    "s1 = Singleton()\n",
    "s2 = Singleton()\n",
    "\n",
    "print(s1 is s2)  # True → they are the same object\n"
   ]
  },
  {
   "cell_type": "code",
   "execution_count": null,
   "id": "f02f43aa",
   "metadata": {},
   "outputs": [
    {
     "name": "stdout",
     "output_type": "stream",
     "text": [
      "ThreadSafeSingleton instance created!\n",
      "True\n"
     ]
    }
   ],
   "source": [
    "import threading\n",
    "import time\n",
    "\n",
    "class ThreadSafeSingleton:\n",
    "    _instance = None\n",
    "    _lock = threading.Lock()  # Class-level lock\n",
    "\n",
    "    def __new__(cls):\n",
    "        with cls._lock:  # Acquire the lock\n",
    "            if cls._instance is None:\n",
    "                cls._instance = super().__new__(cls)\n",
    "                print(\"ThreadSafeSingleton instance created!\")\n",
    "            return cls._instance\n",
    "\n",
    "\n",
    "s1 = ThreadSafeSingleton()\n",
    "s2 = ThreadSafeSingleton()\n",
    "\n",
    "print(s1 is s2) "
   ]
  },
  {
   "cell_type": "code",
   "execution_count": null,
   "id": "01513746",
   "metadata": {},
   "outputs": [],
   "source": []
  }
 ],
 "metadata": {
  "kernelspec": {
   "display_name": "env",
   "language": "python",
   "name": "python3"
  },
  "language_info": {
   "codemirror_mode": {
    "name": "ipython",
    "version": 3
   },
   "file_extension": ".py",
   "mimetype": "text/x-python",
   "name": "python",
   "nbconvert_exporter": "python",
   "pygments_lexer": "ipython3",
   "version": "3.13.1"
  }
 },
 "nbformat": 4,
 "nbformat_minor": 5
}
