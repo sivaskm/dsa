{
 "cells": [
  {
   "cell_type": "markdown",
   "id": "96b5880c",
   "metadata": {},
   "source": [
    "# Prototype\n",
    "Instead of creating new instances from scratch, you create copies of existing objects.\n"
   ]
  },
  {
   "cell_type": "markdown",
   "id": "bfac49b8",
   "metadata": {},
   "source": [
    "### 1. Prototype Interface"
   ]
  },
  {
   "cell_type": "code",
   "execution_count": 1,
   "id": "6a478e3d",
   "metadata": {},
   "outputs": [],
   "source": [
    "from abc import ABC, abstractmethod\n",
    "import copy\n",
    "\n",
    "class Prototype(ABC):\n",
    "    @abstractmethod\n",
    "    def clone(self):\n",
    "        pass"
   ]
  },
  {
   "cell_type": "markdown",
   "id": "9c08358e",
   "metadata": {},
   "source": [
    "### 2. Concrete Class that implement Prototype"
   ]
  },
  {
   "cell_type": "code",
   "execution_count": 3,
   "id": "088f7dd6",
   "metadata": {},
   "outputs": [],
   "source": [
    "class Car(Prototype):\n",
    "    def __init__(self, brand, model, features):\n",
    "        self.brand = brand\n",
    "        self.model = model\n",
    "        self.features = features\n",
    "\n",
    "    def clone(self):\n",
    "        return copy.deepcopy(self)\n",
    "\n",
    "    def __str__(self):\n",
    "        return f\"{self.brand} {self.model} with features: {self.features}\""
   ]
  },
  {
   "cell_type": "markdown",
   "id": "245bc195",
   "metadata": {},
   "source": [
    "### Usage"
   ]
  },
  {
   "cell_type": "code",
   "execution_count": 5,
   "id": "10a1f98e",
   "metadata": {},
   "outputs": [
    {
     "name": "stdout",
     "output_type": "stream",
     "text": [
      "Original Car: Tesla Model S with features: ['Autopilot', 'Electric', 'Sunroof']\n"
     ]
    }
   ],
   "source": [
    "car1 = Car(\"Tesla\", \"Model S\", [\"Autopilot\", \"Electric\", \"Sunroof\"])\n",
    "print(\"Original Car:\", car1)"
   ]
  },
  {
   "cell_type": "code",
   "execution_count": 6,
   "id": "525abf16",
   "metadata": {},
   "outputs": [
    {
     "name": "stdout",
     "output_type": "stream",
     "text": [
      "Cloned Car: Tesla Model 3 with features: ['Autopilot', 'Electric', 'Sunroof', 'Compact Design']\n"
     ]
    }
   ],
   "source": [
    "car2 = car1.clone()\n",
    "car2.model = \"Model 3\"\n",
    "car2.features.append(\"Compact Design\")\n",
    "print(\"Cloned Car:\", car2)"
   ]
  },
  {
   "cell_type": "code",
   "execution_count": null,
   "id": "182cc05d",
   "metadata": {},
   "outputs": [],
   "source": []
  },
  {
   "cell_type": "markdown",
   "id": "a33f17e4",
   "metadata": {},
   "source": [
    "## When?\n",
    "- When object creation is costly (involving DB calls, heavy computation)\n",
    "- When you need many similar objects with minor differences\n",
    "- when your code shouldn’t depend on the concrete classes of objects that you need to copy."
   ]
  },
  {
   "cell_type": "markdown",
   "id": "2667de8b",
   "metadata": {},
   "source": []
  }
 ],
 "metadata": {
  "kernelspec": {
   "display_name": "env",
   "language": "python",
   "name": "python3"
  },
  "language_info": {
   "codemirror_mode": {
    "name": "ipython",
    "version": 3
   },
   "file_extension": ".py",
   "mimetype": "text/x-python",
   "name": "python",
   "nbconvert_exporter": "python",
   "pygments_lexer": "ipython3",
   "version": "3.13.1"
  }
 },
 "nbformat": 4,
 "nbformat_minor": 5
}
