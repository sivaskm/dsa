{
 "cells": [
  {
   "cell_type": "markdown",
   "id": "4ee51cff",
   "metadata": {},
   "source": [
    "# Builder Design Patter\n",
    "\n",
    "- Constructu complex objects step by step\n",
    "- Allows you to produce different types and representations of an object using the same construction process."
   ]
  },
  {
   "cell_type": "markdown",
   "id": "940a0fe8",
   "metadata": {},
   "source": [
    "## Structure\n",
    "1. **Product**: The complex object that is being built\n",
    "2. **Builder**: Interface/abstract class that defines how to build parts\n",
    "3. **ConcreteBuilder**: Actual implementation of the builder interface\n",
    "4. **Director**: Optional - Orchestrates the building steps"
   ]
  },
  {
   "cell_type": "markdown",
   "id": "2a7928de",
   "metadata": {},
   "source": [
    "### 1. Product"
   ]
  },
  {
   "cell_type": "code",
   "execution_count": 12,
   "id": "b94a4607",
   "metadata": {},
   "outputs": [],
   "source": [
    "class Computer:\n",
    "    def __init__(self):\n",
    "        self.cpu = None\n",
    "        self.ram = None\n",
    "        self.storage = None\n",
    "        self.gpu = None\n",
    "\n",
    "    def __str__(self):\n",
    "        return f\"CPU: {self.cpu}, RAM: {self.ram}, Storage: {self.storage}, GPU: {self.gpu}\""
   ]
  },
  {
   "cell_type": "markdown",
   "id": "08546fd7",
   "metadata": {},
   "source": [
    "### 2. Abstract Builder"
   ]
  },
  {
   "cell_type": "code",
   "execution_count": 13,
   "id": "56e85ab7",
   "metadata": {},
   "outputs": [],
   "source": [
    "from abc import ABC, abstractmethod\n",
    "\n",
    "class ComputerBuilder(ABC):\n",
    "    def __init__(self):\n",
    "        self.computer = Computer()\n",
    "\n",
    "    @abstractmethod\n",
    "    def add_cpu(self): \n",
    "        pass\n",
    "\n",
    "    @abstractmethod\n",
    "    def add_ram(self): \n",
    "        pass\n",
    "\n",
    "    @abstractmethod\n",
    "    def add_storage(self): \n",
    "        pass\n",
    "\n",
    "    @abstractmethod\n",
    "    def add_gpu(self): \n",
    "        pass\n",
    "\n",
    "    def get_result(self): \n",
    "        return self.computer"
   ]
  },
  {
   "cell_type": "markdown",
   "id": "c6b8622a",
   "metadata": {},
   "source": [
    "### 3. Concrete Builders"
   ]
  },
  {
   "cell_type": "code",
   "execution_count": 21,
   "id": "b93e743c",
   "metadata": {},
   "outputs": [],
   "source": [
    "class GamingComputerBuilder(ComputerBuilder):\n",
    "    def add_cpu(self):\n",
    "        self.computer.cpu = \"Intel i9\"\n",
    "        return self\n",
    "\n",
    "    def add_ram(self):\n",
    "        self.computer.ram = \"32GB DDR6\"\n",
    "        return self\n",
    "\n",
    "    def add_storage(self):\n",
    "        self.computer.storage = \"2TB SSD\"\n",
    "        return self\n",
    "\n",
    "    def add_gpu(self):\n",
    "        self.computer.gpu = \"NVIDIA RTX 4090\"\n",
    "        return self\n",
    "\n",
    "class NormalComputerBuilder(ComputerBuilder):\n",
    "    def add_cpu(self):\n",
    "        self.computer.cpu = \"Intel i5\"\n",
    "        return self\n",
    "\n",
    "    def add_ram(self):\n",
    "        self.computer.ram = \"8GB DDR4\"\n",
    "        return self\n",
    "\n",
    "    def add_storage(self):\n",
    "        self.computer.storage = \"512GB SSD\"\n",
    "        return self\n",
    "\n",
    "    def add_gpu(self):\n",
    "        # Skipped intentionally, or we can leave it as None\n",
    "        self.computer.gpu = None\n",
    "        return self"
   ]
  },
  {
   "cell_type": "markdown",
   "id": "e2cac68d",
   "metadata": {},
   "source": [
    "### 4. Director"
   ]
  },
  {
   "cell_type": "code",
   "execution_count": 27,
   "id": "eeff0821",
   "metadata": {},
   "outputs": [],
   "source": [
    "class Director:\n",
    "    def __init__(self, builder: ComputerBuilder):\n",
    "        self._builder = builder\n",
    "\n",
    "    def construct_gaming_computer(self):\n",
    "        self._builder.add_cpu().add_ram().add_storage().add_gpu()\n",
    "\n",
    "    def construct_minimal_computer(self):\n",
    "        self._builder.add_cpu().add_ram().add_storage()\n",
    "\n",
    "    def get_computer(self) -> Computer:\n",
    "        return self._builder.get_result()"
   ]
  },
  {
   "cell_type": "markdown",
   "id": "efe40566",
   "metadata": {},
   "source": [
    "### Client"
   ]
  },
  {
   "cell_type": "code",
   "execution_count": 32,
   "id": "27978e1a",
   "metadata": {},
   "outputs": [
    {
     "name": "stdout",
     "output_type": "stream",
     "text": [
      "CPU: Intel i9, RAM: 32GB DDR6, Storage: 2TB SSD, GPU: NVIDIA RTX 4090\n"
     ]
    }
   ],
   "source": [
    "gaming_computer_builder = GamingComputerBuilder()\n",
    "director = Director(gaming_computer_builder)\n",
    "director.construct_gaming_computer()\n",
    "print(director.get_computer())"
   ]
  },
  {
   "cell_type": "code",
   "execution_count": 33,
   "id": "614dc198",
   "metadata": {},
   "outputs": [
    {
     "name": "stdout",
     "output_type": "stream",
     "text": [
      "CPU: Intel i5, RAM: 8GB DDR4, Storage: 512GB SSD, GPU: None\n"
     ]
    }
   ],
   "source": [
    "nrml_computer_builder = NormalComputerBuilder()\n",
    "director = Director(nrml_computer_builder)\n",
    "director.construct_minimal_computer()\n",
    "print(director.get_computer())"
   ]
  },
  {
   "cell_type": "code",
   "execution_count": null,
   "id": "b18a973c",
   "metadata": {},
   "outputs": [],
   "source": []
  },
  {
   "cell_type": "code",
   "execution_count": null,
   "id": "5dbd74b3",
   "metadata": {},
   "outputs": [],
   "source": []
  }
 ],
 "metadata": {
  "kernelspec": {
   "display_name": "env",
   "language": "python",
   "name": "python3"
  },
  "language_info": {
   "codemirror_mode": {
    "name": "ipython",
    "version": 3
   },
   "file_extension": ".py",
   "mimetype": "text/x-python",
   "name": "python",
   "nbconvert_exporter": "python",
   "pygments_lexer": "ipython3",
   "version": "3.13.1"
  }
 },
 "nbformat": 4,
 "nbformat_minor": 5
}
