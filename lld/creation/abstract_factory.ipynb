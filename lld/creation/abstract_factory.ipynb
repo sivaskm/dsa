{
 "cells": [
  {
   "cell_type": "markdown",
   "id": "f6227b89",
   "metadata": {},
   "source": [
    "# Abstract Factory Design Pattern\n",
    "- Provides an interface for creating families or dependent objects without specifying their concrete classes."
   ]
  },
  {
   "cell_type": "markdown",
   "id": "85cf9371",
   "metadata": {},
   "source": [
    "## Structure\n",
    "- Abstract Factory: Declares creation methods for abstract products\n",
    "- Concrete Factories: Implement creation methods to return concrete products\n",
    "- Abstract Products: Declare interfaces for product types\n",
    "- Concrete Products: Implement product interface"
   ]
  },
  {
   "cell_type": "markdown",
   "id": "577c8d30",
   "metadata": {},
   "source": [
    "### 1. Abstract Products"
   ]
  },
  {
   "cell_type": "code",
   "execution_count": 1,
   "id": "ae587400",
   "metadata": {},
   "outputs": [],
   "source": [
    "from abc import ABC, abstractmethod\n",
    "\n",
    "class Chair(ABC):\n",
    "    @abstractmethod\n",
    "    def sit_on(self) -> str:\n",
    "        pass\n",
    "\n",
    "class Sofa(ABC):\n",
    "    @abstractmethod\n",
    "    def lie_on(self) -> str:\n",
    "        pass"
   ]
  },
  {
   "cell_type": "markdown",
   "id": "01bb8d3a",
   "metadata": {},
   "source": [
    "### 2. Concrete Products"
   ]
  },
  {
   "cell_type": "code",
   "execution_count": 2,
   "id": "9a27b686",
   "metadata": {},
   "outputs": [],
   "source": [
    "class ModernChair(Chair):\n",
    "    def sit_on(self) -> str:\n",
    "        return \"sitting on a modern chair\"\n",
    "\n",
    "class VictorianChair(Chair):\n",
    "    def sit_on(self) -> str:\n",
    "        return \"sitting on a victorian chair\"\n",
    "\n",
    "class ModernSofa(Sofa):\n",
    "    def lie_on(self) -> str:\n",
    "        return \"Lying on a modern sofa\"\n",
    "\n",
    "class VictorianSofa(Sofa):\n",
    "    def lie_on(self) -> str:\n",
    "        return \"Lying on a victorian sofa\""
   ]
  },
  {
   "cell_type": "markdown",
   "id": "546e1f83",
   "metadata": {},
   "source": [
    "### 3. Abstract Factory"
   ]
  },
  {
   "cell_type": "code",
   "execution_count": 3,
   "id": "8556e9f2",
   "metadata": {},
   "outputs": [],
   "source": [
    "class FurnitureFactory(ABC):\n",
    "    @abstractmethod\n",
    "    def create_chair(self) -> Chair:\n",
    "        pass\n",
    "\n",
    "    @abstractmethod\n",
    "    def create_sofa(self) -> Sofa:\n",
    "        pass"
   ]
  },
  {
   "cell_type": "markdown",
   "id": "485c6691",
   "metadata": {},
   "source": [
    "### 4. Concrete Factories"
   ]
  },
  {
   "cell_type": "code",
   "execution_count": 9,
   "id": "3ccdc1f5",
   "metadata": {},
   "outputs": [],
   "source": [
    "class ModernFurnitureFactory(FurnitureFactory):\n",
    "    def create_chair(self) -> Chair:\n",
    "        return ModernChair()\n",
    "\n",
    "    def create_sofa(self) -> Sofa:\n",
    "        return ModernSofa()\n",
    "\n",
    "class VictorianFurnitureFactory(FurnitureFactory):\n",
    "    def create_chair(self) -> Chair:\n",
    "        return VictorianChair()\n",
    "\n",
    "    def create_sofa(self) -> Sofa:\n",
    "        return VictorianSofa()"
   ]
  },
  {
   "cell_type": "markdown",
   "id": "30e860fb",
   "metadata": {},
   "source": [
    "### 5. Client Code"
   ]
  },
  {
   "cell_type": "code",
   "execution_count": 12,
   "id": "76993d18",
   "metadata": {},
   "outputs": [],
   "source": [
    "def client(factory: FurnitureFactory):\n",
    "    chair = factory.create_chair()\n",
    "    sofa = factory.create_sofa()\n",
    "    print(chair.sit_on())\n",
    "    print(sofa.lie_on())"
   ]
  },
  {
   "cell_type": "markdown",
   "id": "104f32d7",
   "metadata": {},
   "source": [
    "### Usage"
   ]
  },
  {
   "cell_type": "code",
   "execution_count": 13,
   "id": "d5345182",
   "metadata": {},
   "outputs": [
    {
     "name": "stdout",
     "output_type": "stream",
     "text": [
      "sitting on a modern chair\n",
      "Lying on a modern sofa\n"
     ]
    }
   ],
   "source": [
    "client(ModernFurnitureFactory())"
   ]
  },
  {
   "cell_type": "code",
   "execution_count": 14,
   "id": "fb66e5e6",
   "metadata": {},
   "outputs": [
    {
     "name": "stdout",
     "output_type": "stream",
     "text": [
      "sitting on a victorian chair\n",
      "Lying on a victorian sofa\n"
     ]
    }
   ],
   "source": [
    "client(VictorianFurnitureFactory())"
   ]
  },
  {
   "cell_type": "markdown",
   "id": "468f217d",
   "metadata": {},
   "source": [
    "### When?\n",
    "- When your code needs to work with various families of related objects\n",
    "- When you want to enforce consistency between related objects\n",
    "- When you want to decouple object creation from usage"
   ]
  },
  {
   "cell_type": "code",
   "execution_count": null,
   "id": "d8ee39d6",
   "metadata": {},
   "outputs": [],
   "source": []
  }
 ],
 "metadata": {
  "kernelspec": {
   "display_name": "env",
   "language": "python",
   "name": "python3"
  },
  "language_info": {
   "codemirror_mode": {
    "name": "ipython",
    "version": 3
   },
   "file_extension": ".py",
   "mimetype": "text/x-python",
   "name": "python",
   "nbconvert_exporter": "python",
   "pygments_lexer": "ipython3",
   "version": "3.13.1"
  }
 },
 "nbformat": 4,
 "nbformat_minor": 5
}
