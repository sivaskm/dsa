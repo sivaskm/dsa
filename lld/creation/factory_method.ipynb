{
 "cells": [
  {
   "cell_type": "markdown",
   "id": "d3693057",
   "metadata": {},
   "source": [
    "# Factory Method Design Pattern\n",
    "- Defines an **interface** for creating an object\n",
    "- But let **subclasses** of those interfaces decide which class to instantiate"
   ]
  },
  {
   "cell_type": "markdown",
   "id": "075338bf",
   "metadata": {},
   "source": [
    "## Structure\n",
    "1. Product\n",
    "    -  Abstract interface or base class for the objects that factory method creates\n",
    "2. ConcreteProduct\n",
    "    - Specific implmentation of the Product\n",
    "3. Creator\n",
    "    - Declares the factory method (create_product) that returns a **Product**\n",
    "    - Often also contains some business logic that uses the product.\n",
    "4. ConcreteCreator\n",
    "    - Overrides the factory method to return an instance of **ConcreteProduct** "
   ]
  },
  {
   "cell_type": "markdown",
   "id": "f0301572",
   "metadata": {},
   "source": [
    "Client --> Creator.some_operation() --> Creator.create_product() --> ConcreteProduct"
   ]
  },
  {
   "cell_type": "code",
   "execution_count": null,
   "id": "a841b004",
   "metadata": {},
   "outputs": [],
   "source": [
    "from abc import ABC, abstractmethod\n",
    "\n",
    "# 1. Product Interface\n",
    "class DocumentExporter(ABC):\n",
    "    @abstractmethod\n",
    "    def export(self, content: str, filepath: str) -> None:\n",
    "        \"\"\"Export the content to the given filepath\"\"\"\n",
    "\n",
    "# 2. Concrete Products\n",
    "class PDFExporter(DocumentExporter):\n",
    "    def export(self, content: str, filepath: str) -> None:\n",
    "        print(f\"PDF writing '{content}' to {filepath}.pdf\")\n",
    "\n",
    "class HTMLExporter(DocumentExporter):\n",
    "    def export(self, content: str, filepath: str) -> None:\n",
    "        print(f\"[HTML] Writing '<html>{content}</html>' to {filepath}.html\")\n",
    "\n",
    "# 3. Creator\n",
    "class ReportGenerator(ABC):\n",
    "    # Factoru Method\n",
    "    @abstractmethod\n",
    "    def create_exporter(self) -> DocumentExporter:\n",
    "        \"\"\"Factory Method: returns a DocumentExporter\"\"\"\n",
    "\n",
    "    # Business Logic - concrete method\n",
    "    def generate(self, content: str, filepath: str) -> None:\n",
    "        exporter = self.create_exporter()\n",
    "        exporter.export(content, filepath)\n",
    "\n",
    "# 4. Concrete Creators\n",
    "class PDFReportGenerator(ReportGenerator):\n",
    "    def create_exporter(self) -> DocumentExporter:\n",
    "        return PDFExporter()\n",
    "\n",
    "class HTMLReportGenerator(ReportGenerator):\n",
    "    def create_exporter(self) -> DocumentExporter:\n",
    "        return HTMLExporter()\n",
    "\n",
    "# 5. Client\n",
    "\n",
    "def client(generator: ReportGenerator):\n",
    "    content = \"Content\"\n",
    "    filepath = \"filepath\"\n",
    "    generator.generate(content, filepath)\n",
    "    "
   ]
  },
  {
   "cell_type": "code",
   "execution_count": 9,
   "id": "203a4065",
   "metadata": {},
   "outputs": [
    {
     "name": "stdout",
     "output_type": "stream",
     "text": [
      "PDF writing 'Content' to filepath.pdf\n"
     ]
    }
   ],
   "source": [
    "client(PDFReportGenerator())"
   ]
  },
  {
   "cell_type": "code",
   "execution_count": 10,
   "id": "cb5c6373",
   "metadata": {},
   "outputs": [
    {
     "name": "stdout",
     "output_type": "stream",
     "text": [
      "[HTML] Writing '<html>Content</html>' to filepath.html\n"
     ]
    }
   ],
   "source": [
    "client(HTMLReportGenerator())"
   ]
  },
  {
   "cell_type": "markdown",
   "id": "1ec9c961",
   "metadata": {},
   "source": [
    "## Why?\n",
    "    - The exact need for the Factory Method pattern is to empower subclasses to decide which concrete class to instantiate, while allowing the superclass to define the overall structure and rely on an abstract product. It's about delegating the \"how to create\" decision to those who have the specific knowledge (the subclasses), promoting flexibility and extensibility, especially in object-oriented frameworks."
   ]
  },
  {
   "cell_type": "markdown",
   "id": "5653a700",
   "metadata": {},
   "source": [
    "## When?\n",
    "- Need to create objects when their exact type is not known until runtime.\n",
    "- Let the subclass decide what to create"
   ]
  },
  {
   "cell_type": "code",
   "execution_count": null,
   "id": "fa646968",
   "metadata": {},
   "outputs": [],
   "source": []
  }
 ],
 "metadata": {
  "kernelspec": {
   "display_name": "env",
   "language": "python",
   "name": "python3"
  },
  "language_info": {
   "codemirror_mode": {
    "name": "ipython",
    "version": 3
   },
   "file_extension": ".py",
   "mimetype": "text/x-python",
   "name": "python",
   "nbconvert_exporter": "python",
   "pygments_lexer": "ipython3",
   "version": "3.13.1"
  }
 },
 "nbformat": 4,
 "nbformat_minor": 5
}
