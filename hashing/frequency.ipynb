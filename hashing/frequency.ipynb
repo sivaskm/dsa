{
 "cells": [
  {
   "cell_type": "markdown",
   "id": "89b88ff1",
   "metadata": {},
   "source": [
    "## Find the highest/lowest frequency element"
   ]
  },
  {
   "cell_type": "code",
   "execution_count": 7,
   "id": "a450382a",
   "metadata": {},
   "outputs": [
    {
     "name": "stdout",
     "output_type": "stream",
     "text": [
      "{10: 3, 5: 3, 15: 1} 10 15\n"
     ]
    }
   ],
   "source": [
    "array = [10, 5, 10, 15, 10, 5, 5]\n",
    "\n",
    "freq = {}\n",
    "\n",
    "for element in array:\n",
    "    if element not in freq:\n",
    "        freq[element] = 0\n",
    "    freq[element] += 1\n",
    "\n",
    "\n",
    "max_freq = 0\n",
    "min_freq = len(array)\n",
    "for element, count in freq.items():\n",
    "    if count > max_freq:\n",
    "        max_freq = count\n",
    "        max_freq_ele = element\n",
    "    elif count < min_freq:\n",
    "        min_freq = count\n",
    "        min_freq_ele = element\n",
    "print(freq, max_freq_ele, min_freq_ele)\n",
    "    "
   ]
  },
  {
   "cell_type": "code",
   "execution_count": null,
   "id": "b5cd9d0f",
   "metadata": {},
   "outputs": [],
   "source": []
  },
  {
   "cell_type": "code",
   "execution_count": null,
   "id": "49242942",
   "metadata": {},
   "outputs": [],
   "source": []
  },
  {
   "cell_type": "code",
   "execution_count": null,
   "id": "d0e8bc23",
   "metadata": {},
   "outputs": [],
   "source": []
  },
  {
   "cell_type": "code",
   "execution_count": null,
   "id": "ccb8a3c2",
   "metadata": {},
   "outputs": [],
   "source": []
  },
  {
   "cell_type": "code",
   "execution_count": null,
   "id": "b58f3211",
   "metadata": {},
   "outputs": [],
   "source": []
  }
 ],
 "metadata": {
  "kernelspec": {
   "display_name": "env",
   "language": "python",
   "name": "python3"
  },
  "language_info": {
   "codemirror_mode": {
    "name": "ipython",
    "version": 3
   },
   "file_extension": ".py",
   "mimetype": "text/x-python",
   "name": "python",
   "nbconvert_exporter": "python",
   "pygments_lexer": "ipython3",
   "version": "3.13.1"
  }
 },
 "nbformat": 4,
 "nbformat_minor": 5
}
