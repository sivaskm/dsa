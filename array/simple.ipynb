{
 "cells": [
  {
   "cell_type": "code",
   "execution_count": 9,
   "id": "c9d8c627",
   "metadata": {},
   "outputs": [
    {
     "data": {
      "text/plain": [
       "[2, 3, 4, 5, 1]"
      ]
     },
     "execution_count": 9,
     "metadata": {},
     "output_type": "execute_result"
    }
   ],
   "source": [
    "arr = [1, 2, 3, 4, 5]\n",
    "\n",
    "temp = arr[0]\n",
    "n = len(arr)\n",
    "for i in range(n-1):\n",
    "    arr[i] = arr[i+1]\n",
    "arr[n-1] = temp\n",
    "arr"
   ]
  },
  {
   "cell_type": "code",
   "execution_count": 8,
   "id": "1a40d977",
   "metadata": {},
   "outputs": [
    {
     "data": {
      "text/plain": [
       "[5, 1, 2, 3, 4]"
      ]
     },
     "execution_count": 8,
     "metadata": {},
     "output_type": "execute_result"
    }
   ],
   "source": [
    "arr = [1, 2, 3, 4, 5]\n",
    "\n",
    "temp = arr[n-1]\n",
    "n = len(arr)\n",
    "for i in range(n-1, 0, -1):\n",
    "    arr[i] = arr[i-1]\n",
    "arr[0] = temp\n",
    "arr"
   ]
  },
  {
   "cell_type": "code",
   "execution_count": 14,
   "id": "142e76b2",
   "metadata": {},
   "outputs": [
    {
     "name": "stdout",
     "output_type": "stream",
     "text": [
      "After Rotating the elements to right:\n",
      "[6, 7, 1, 2, 3, 4, 5]\n"
     ]
    }
   ],
   "source": [
    "def rotate_to_right(arr, k):\n",
    "    n = len(arr)\n",
    "    if n == 0:\n",
    "        return\n",
    "    k = k % n\n",
    "    if k > n:\n",
    "        return\n",
    "\n",
    "    # Step 1: Copy the last k elements to temp\n",
    "    temp = arr[-k:]\n",
    "\n",
    "    # Step 2: Shift the rest of the elements to the right\n",
    "    for i in range(n - 1, k-1, -1):\n",
    "        arr[i] = arr[i-k]\n",
    "\n",
    "    # Step 3: Copy temp elements to the beginning\n",
    "    for i in range(k):\n",
    "        arr[i] = temp[i]\n",
    "\n",
    "\n",
    "# Example usage\n",
    "arr = [1, 2, 3, 4, 5, 6, 7]\n",
    "k = 2\n",
    "rotate_to_right(arr, k)\n",
    "print(\"After Rotating the elements to right:\")\n",
    "print(arr)\n"
   ]
  },
  {
   "cell_type": "code",
   "execution_count": null,
   "id": "6a9c10c7",
   "metadata": {},
   "outputs": [],
   "source": []
  }
 ],
 "metadata": {
  "kernelspec": {
   "display_name": "env",
   "language": "python",
   "name": "python3"
  },
  "language_info": {
   "codemirror_mode": {
    "name": "ipython",
    "version": 3
   },
   "file_extension": ".py",
   "mimetype": "text/x-python",
   "name": "python",
   "nbconvert_exporter": "python",
   "pygments_lexer": "ipython3",
   "version": "3.13.1"
  }
 },
 "nbformat": 4,
 "nbformat_minor": 5
}
