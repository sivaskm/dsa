{
 "cells": [
  {
   "cell_type": "code",
   "execution_count": 20,
   "id": "a02566fb",
   "metadata": {},
   "outputs": [],
   "source": [
    "class Stack:\n",
    "    def __init__(self, size):\n",
    "        self.top = -1\n",
    "        self.size = size\n",
    "        self.arr = [0] * self.size\n",
    "    \n",
    "    def push(self, x: int) -> None:\n",
    "        self.top += 1\n",
    "        self.arr[self.top] = x\n",
    "\n",
    "    def pop(self) -> int:\n",
    "        x = self.arr[self.top]\n",
    "        self.top -= 1\n",
    "        return x\n",
    "\n",
    "    def Top(self) -> int:\n",
    "        return self.arr[self.top]\n",
    "\n",
    "    def Size(self) -> int:\n",
    "        return self.top + 1"
   ]
  },
  {
   "cell_type": "code",
   "execution_count": 21,
   "id": "0366feb1",
   "metadata": {},
   "outputs": [
    {
     "name": "stdout",
     "output_type": "stream",
     "text": [
      "Top of stack is before deleting any element 7\n",
      "Size of stack before deleting any element 3\n",
      "The element deleted is 7\n",
      "Size of stack after deleting an element 2\n",
      "Top of stack after deleting an element 3\n"
     ]
    }
   ],
   "source": [
    "s = Stack(5)\n",
    "s.push(6)\n",
    "s.push(3)\n",
    "s.push(7)\n",
    "print(\"Top of stack is before deleting any element\", s.Top())\n",
    "print(\"Size of stack before deleting any element\", s.Size())\n",
    "print(\"The element deleted is\", s.pop())\n",
    "print(\"Size of stack after deleting an element\", s.Size())\n",
    "print(\"Top of stack after deleting an element\", s.Top())"
   ]
  },
  {
   "cell_type": "code",
   "execution_count": null,
   "id": "9fec4a16",
   "metadata": {},
   "outputs": [],
   "source": []
  }
 ],
 "metadata": {
  "kernelspec": {
   "display_name": "env",
   "language": "python",
   "name": "python3"
  },
  "language_info": {
   "codemirror_mode": {
    "name": "ipython",
    "version": 3
   },
   "file_extension": ".py",
   "mimetype": "text/x-python",
   "name": "python",
   "nbconvert_exporter": "python",
   "pygments_lexer": "ipython3",
   "version": "3.13.1"
  }
 },
 "nbformat": 4,
 "nbformat_minor": 5
}
